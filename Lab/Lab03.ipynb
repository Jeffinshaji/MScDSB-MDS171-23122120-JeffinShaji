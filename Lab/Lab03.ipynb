{
 "cells": [
  {
   "cell_type": "code",
   "execution_count": 21,
   "metadata": {},
   "outputs": [
    {
     "name": "stdout",
     "output_type": "stream",
     "text": [
      "Mean is: 542.94\n",
      "Largest No is: 999\n",
      "Smallest No is: 17\n",
      "Range is: 982\n"
     ]
    }
   ],
   "source": [
    "\n",
    "data = [761, 123, 585, 275, 194, 840, 999, 622, 763, 40, 825, 687, 402, 338, 611, 987, 739, 95, 819, 568, 320,\n",
    "         126, 688, 948, 514, 223, 751, 379, 857, 767, 492, 162, 437, 934, 430, 343, 725, 511, 580, 678, 708, 823, \n",
    "         346, 179, 786, 663, 195, 890, 267, 502, 214, 300, 786, 961, 235, 559, 992, 919, 948, 318, 57, 787, 653, \n",
    "         317, 305, 172, 966, 182, 970, 17, 89, 624, 629, 595, 485, 752, 984, 978, 460, 124, 321, 256, 614, 852, 811,\n",
    "         561, 127, 207, 406, 615, 888, 391, 691, 470, 911, 401, 137, 600, 478, 682]\n",
    "a=0\n",
    "i=0\n",
    "for item in data:\n",
    "    i=i+1\n",
    "    a+=item\n",
    "    mean=a/i\n",
    "print(\"Mean is:\", mean)\n",
    "largest_no = None\n",
    "for number in data:\n",
    "    if largest_no is None or largest_no < number:\n",
    "        largest_no = number\n",
    "print (\"Largest No is:\", largest_no)\n",
    "smallest_no = None\n",
    "for num in data:\n",
    "    if smallest_no is None or smallest_no > num:\n",
    "        smallest_no = num\n",
    "print(\"Smallest No is:\", smallest_no)\n",
    "range=(largest_no-smallest_no)\n",
    "print(\"Range is:\", range)\n",
    "\n",
    "\n"
   ]
  }
 ],
 "metadata": {
  "kernelspec": {
   "display_name": "Python 3",
   "language": "python",
   "name": "python3"
  },
  "language_info": {
   "codemirror_mode": {
    "name": "ipython",
    "version": 3
   },
   "file_extension": ".py",
   "mimetype": "text/x-python",
   "name": "python",
   "nbconvert_exporter": "python",
   "pygments_lexer": "ipython3",
   "version": "3.11.4"
  },
  "orig_nbformat": 4
 },
 "nbformat": 4,
 "nbformat_minor": 2
}
