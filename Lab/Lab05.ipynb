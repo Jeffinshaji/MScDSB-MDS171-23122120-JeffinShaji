{
 "cells": [
  {
   "cell_type": "code",
   "execution_count": 52,
   "metadata": {},
   "outputs": [
    {
     "name": "stdout",
     "output_type": "stream",
     "text": [
      "Number of vowels are :- 6\n",
      "Entered value is :- Hello this is vowels\n",
      "Length of String :- 20\n",
      "\n",
      "'a' occurs  0\n",
      "'e' occurs  2\n",
      "'i' occurs  2\n",
      "'o' occurs  2\n",
      "'u' occurs  0\n",
      "The percentage of vowels in the string is :- 30.0\n"
     ]
    }
   ],
   "source": [
    "#Count of Total vowels\n",
    "\n",
    "string=input(\"Enter string:\")\n",
    "vowels=0\n",
    "for i in string:\n",
    "      if(i=='a' or i=='e' or i=='i' or i=='o' or i=='u' or i=='A' or i=='E' or i=='I' or i=='O' or i=='U'):\n",
    "            vowels=vowels+1\n",
    "print(\"Number of vowels are :-\",vowels)\n",
    "print(\"Entered value is :-\",string)\n",
    "print(\"Length of String :-\",len(string))\n",
    "\n",
    "#Count Of Each Vowels\n",
    "\n",
    "vowela = ['a', 'A']\n",
    "vowele = ['e', 'E']\n",
    "voweli = ['i', 'I']\n",
    "vowelo = ['o', 'O']\n",
    "vowelu = ['u', 'U']\n",
    "ca = 0\n",
    "ce = 0\n",
    "ci = 0\n",
    "co = 0\n",
    "cu = 0\n",
    "for x in string:\n",
    "    if x in vowela:\n",
    "        ca = ca+1\n",
    "    elif x in vowele:\n",
    "        ce = ce+1\n",
    "    elif x in voweli:\n",
    "        ci = ci+1\n",
    "    elif x in vowelo:\n",
    "        co = co+1\n",
    "    elif x in vowelu:\n",
    "        cu = cu+1\n",
    "print(\"\\n'a' occurs \", ca)\n",
    "print(\"'e' occurs \", ce)\n",
    "print(\"'i' occurs \", ci)\n",
    "print(\"'o' occurs \", co)\n",
    "print(\"'u' occurs \", cu)\n",
    "\n",
    "#percentage of the vowels \n",
    "\n",
    "print(\"The percentage of vowels in the string is :-\", (vowels/len(string))*100)\n"
   ]
  },
  {
   "cell_type": "code",
   "execution_count": null,
   "metadata": {},
   "outputs": [],
   "source": []
  }
 ],
 "metadata": {
  "kernelspec": {
   "display_name": "Python 3",
   "language": "python",
   "name": "python3"
  },
  "language_info": {
   "codemirror_mode": {
    "name": "ipython",
    "version": 3
   },
   "file_extension": ".py",
   "mimetype": "text/x-python",
   "name": "python",
   "nbconvert_exporter": "python",
   "pygments_lexer": "ipython3",
   "version": "3.11.4"
  },
  "orig_nbformat": 4
 },
 "nbformat": 4,
 "nbformat_minor": 2
}
