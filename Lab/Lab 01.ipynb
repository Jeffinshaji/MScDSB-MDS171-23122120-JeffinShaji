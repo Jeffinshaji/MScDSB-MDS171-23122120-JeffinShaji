{
 "cells": [
  {
   "cell_type": "code",
   "execution_count": 7,
   "metadata": {},
   "outputs": [
    {
     "name": "stdout",
     "output_type": "stream",
     "text": [
      "jeffinjeffinjeffinjeffinjeffin\n"
     ]
    }
   ],
   "source": [
    "n = input(\"enter the name\")\n",
    "a =int(input(\"\\n enter the number \\n\"))\n",
    "print (n*a)\n",
    "\n",
    "\n"
   ]
  },
  {
   "cell_type": "code",
   "execution_count": 2,
   "metadata": {},
   "outputs": [
    {
     "name": "stdout",
     "output_type": "stream",
     "text": [
      "\n"
     ]
    }
   ],
   "source": [
    "print ()"
   ]
  },
  {
   "cell_type": "code",
   "execution_count": 3,
   "metadata": {},
   "outputs": [
    {
     "name": "stdout",
     "output_type": "stream",
     "text": [
      "thr\n"
     ]
    }
   ],
   "source": [
    "a = int (input(\"Enter the number\"))\n",
    "if a == 1:\n",
    "    print(\"sunday\")\n",
    "elif a == 2 :\n",
    "    print (\"monday\")\n",
    "elif a == 3 :\n",
    "    print (\"tuesday\")\n",
    "elif a == 4 :\n",
    "    print (\"wed\")\n",
    "elif a == 5 :\n",
    "    print (\"thr\")\n",
    "elif a == 6 :\n",
    "    print (\"fri\")\n",
    "elif a == 7 :\n",
    "    print (\"sat\")\n",
    "else:\n",
    "    print (\"error\")"
   ]
  },
  {
   "cell_type": "code",
   "execution_count": 4,
   "metadata": {},
   "outputs": [
    {
     "ename": "ValueError",
     "evalue": "invalid literal for int() with base 10: 'jeffin'",
     "output_type": "error",
     "traceback": [
      "\u001b[1;31m---------------------------------------------------------------------------\u001b[0m",
      "\u001b[1;31mValueError\u001b[0m                                Traceback (most recent call last)",
      "Cell \u001b[1;32mIn[4], line 1\u001b[0m\n\u001b[1;32m----> 1\u001b[0m a \u001b[39m=\u001b[39m \u001b[39mint\u001b[39;49m(\u001b[39minput\u001b[39;49m(\u001b[39m\"\u001b[39;49m\u001b[39menter numeber\u001b[39;49m\u001b[39m\"\u001b[39;49m))\n\u001b[0;32m      2\u001b[0m \u001b[39mif\u001b[39;00m a \u001b[39m==\u001b[39m \u001b[39m5\u001b[39m :\n\u001b[0;32m      3\u001b[0m     \u001b[39mprint\u001b[39m (\u001b[39m\"\u001b[39m\u001b[39m5\u001b[39m\u001b[39m\"\u001b[39m)\n",
      "\u001b[1;31mValueError\u001b[0m: invalid literal for int() with base 10: 'jeffin'"
     ]
    }
   ],
   "source": [
    "a = int(input(\"enter numeber\"))\n",
    "if a == 5 :\n",
    "    print (\"5\")\n",
    "elif a == 2 :\n",
    "    print (\"2\")\n",
    "else :\n",
    "    print(\"0\")\n"
   ]
  }
 ],
 "metadata": {
  "kernelspec": {
   "display_name": "Python 3",
   "language": "python",
   "name": "python3"
  },
  "language_info": {
   "codemirror_mode": {
    "name": "ipython",
    "version": 3
   },
   "file_extension": ".py",
   "mimetype": "text/x-python",
   "name": "python",
   "nbconvert_exporter": "python",
   "pygments_lexer": "ipython3",
   "version": "3.11.4"
  },
  "orig_nbformat": 4
 },
 "nbformat": 4,
 "nbformat_minor": 2
}
