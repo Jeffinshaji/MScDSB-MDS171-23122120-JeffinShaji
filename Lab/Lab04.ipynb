{
 "cells": [
  {
   "cell_type": "code",
   "execution_count": 4,
   "metadata": {},
   "outputs": [],
   "source": [
    "def Grocery_Store_management_system(customer , date , item , rate , qty , customercount):\n",
    "    file = open(\"Grocery_Store_management_system.txt\", \"w+\")\n",
    "    file.write(\"\\nName = \"+customer)\n",
    "    file.write(\"\\nDate = \"+date)\n",
    "    file.write(\"\\nItem Code = \"+item)\n",
    "    file.write(\"\\nQuantity = \"+str(qty))\n",
    "    file.write(\"\\nRate = \"+str(rate))\n",
    "    file.write(\"\\nCustomerCount = \"+customercount)\n",
    "    file.write(\"\\n-----------------------------------------------------------------------------------------------------------\")\n",
    "    file.close()\n",
    "    return True"
   ]
  },
  {
   "cell_type": "code",
   "execution_count": 5,
   "metadata": {},
   "outputs": [
    {
     "data": {
      "text/plain": [
       "True"
      ]
     },
     "execution_count": 5,
     "metadata": {},
     "output_type": "execute_result"
    }
   ],
   "source": [
    "customer = input(\"Enter the Name here: \")\n",
    "date = input(\"Enter the date: \")\n",
    "item = input(\"Enter the item here: \")\n",
    "init_rate = int(input(\"Enter the rate of the item: \"))\n",
    "qty = int(input(\"Enter the quantity of the item\"))\n",
    "customercount = input(\"Enter the customer Count: \")\n",
    "rate=init_rate*qty\n",
    "Grocery_Store_management_system(customer , date , item , rate , qty,customercount)"
   ]
  },
  {
   "cell_type": "code",
   "execution_count": 6,
   "metadata": {},
   "outputs": [
    {
     "name": "stdout",
     "output_type": "stream",
     "text": [
      "The total amount obtained in this day =  50\n"
     ]
    }
   ],
   "source": [
    "#analysis\n",
    "salescount = 0\n",
    "with open(\"Grocery_Store_management_system.txt\" , \"r+\") as file :\n",
    "    for line in file:\n",
    "        if \"Rate\" in line:\n",
    "            \n",
    "            Rate = int(line.split(\"=\")[1].strip())\n",
    "            salescount += Rate\n",
    "print(\"The total amount obtained in this day = \" , salescount)\n",
    "    # print(\"The total amount of guests per day: \" , salescount)"
   ]
  },
  {
   "cell_type": "code",
   "execution_count": 7,
   "metadata": {},
   "outputs": [
    {
     "name": "stdout",
     "output_type": "stream",
     "text": [
      "The total Guest obtained in this day =  0\n"
     ]
    }
   ],
   "source": [
    "#analysis\n",
    "salescount = 0\n",
    "with open(\"Grocery_Store_management_system.txt\" , \"r+\") as file :\n",
    "    for line in file:\n",
    "        if \"GuestCount\" in line:\n",
    "            \n",
    "            Rate = int(line.split(\"=\")[1].strip())\n",
    "            salescount += Rate\n",
    "print(\"The total Guest obtained in this day = \" , salescount)\n",
    "    # print(\"The total amount of guests per day: \" , salescount)"
   ]
  },
  {
   "cell_type": "code",
   "execution_count": null,
   "metadata": {},
   "outputs": [],
   "source": []
  }
 ],
 "metadata": {
  "kernelspec": {
   "display_name": "Python 3",
   "language": "python",
   "name": "python3"
  },
  "language_info": {
   "codemirror_mode": {
    "name": "ipython",
    "version": 3
   },
   "file_extension": ".py",
   "mimetype": "text/x-python",
   "name": "python",
   "nbconvert_exporter": "python",
   "pygments_lexer": "ipython3",
   "version": "3.11.4"
  },
  "orig_nbformat": 4
 },
 "nbformat": 4,
 "nbformat_minor": 2
}
