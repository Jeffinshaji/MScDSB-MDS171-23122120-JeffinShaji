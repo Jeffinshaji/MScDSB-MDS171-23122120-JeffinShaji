{
 "cells": [
  {
   "cell_type": "code",
   "execution_count": 1,
   "metadata": {},
   "outputs": [
    {
     "name": "stdout",
     "output_type": "stream",
     "text": [
      "Recipe Finder\n"
     ]
    },
    {
     "name": "stdout",
     "output_type": "stream",
     "text": [
      "\n",
      "Recipes you can make:\n",
      "Caprese Salad\n"
     ]
    }
   ],
   "source": [
    "recipes = [\n",
    "    {\n",
    "        'name': 'Spaghetti Carbonara',\n",
    "        'ingredients': ['spaghetti', 'eggs', 'bacon', 'Parmesan cheese', 'black pepper'],\n",
    "        'instructions': '1. Cook spaghetti... 2. Fry bacon... 3. Mix eggs...',\n",
    "    },\n",
    "    {\n",
    "        'name': 'Chicken Alfredo',\n",
    "        'ingredients': ['chicken breast', 'fettuccine pasta', 'heavy cream', 'Parmesan cheese', 'butter'],\n",
    "        'instructions': '1. Cook pasta... 2. Sauté chicken... 3. Make sauce...',\n",
    "    },\n",
    "    {\n",
    "        'name': 'Caprese Salad',\n",
    "        'ingredients': ['tomatoes', 'fresh mozzarella cheese', 'fresh basil leaves', 'balsamic vinegar', 'olive oil'],\n",
    "        'instructions': '1. Slice tomatoes and cheese... 2. Arrange on a plate... 3. Drizzle with vinegar and oil...',\n",
    "    },\n",
    "]\n",
    "\n",
    "# Function to find recipes based on user input\n",
    "def find_recipes(user_ingredients):\n",
    "    matching_recipes = []\n",
    "    \n",
    "    for recipe in recipes:\n",
    "        if all(ingredient in recipe['ingredients'] for ingredient in user_ingredients):\n",
    "            matching_recipes.append(recipe['name'])\n",
    "    \n",
    "    return matching_recipes\n",
    "\n",
    "# Main program\n",
    "if __name__ == \"__main__\":\n",
    "    print(\"Recipe Finder\")\n",
    "    \n",
    "    # Get user input for ingredients (comma-separated)\n",
    "    user_input = input(\"Enter ingredients you have (comma-separated): \")\n",
    "    user_ingredients = [ingredient.strip() for ingredient in user_input.split(',')]\n",
    "    \n",
    "    # Find matching recipes\n",
    "    matching_recipes = find_recipes(user_ingredients)\n",
    "    \n",
    "    # Display results\n",
    "    if matching_recipes:\n",
    "        print(\"\\nRecipes you can make:\")\n",
    "        for recipe in matching_recipes:\n",
    "            print(recipe)\n",
    "    else:\n",
    "        print(\"\\nNo recipes found with the provided ingredients.\")"
   ]
  },
  {
   "cell_type": "code",
   "execution_count": 5,
   "metadata": {},
   "outputs": [],
   "source": [
    "def find_recipes(ingredients):\n",
    "    recipes = [\n",
    "        {\n",
    "            \"name\": \"Lemon Juice\",\n",
    "            \"ingredients\": [\"lemon\",\"Salt\",\"Suger\",\"Soda\"],\n",
    "            \"instructions\": \"Cut lemons in a circular shape.squeezed lemon,Add water or soda then mix with salt and suger\",\n",
    "           \n",
    "        },\n",
    "        {\n",
    "            \"name\": \"Bread Omlette\",\n",
    "            \"ingredients\": [\"Bread\",\"Egg\",\"Ghee\",\"Chilli\",\"Onion\",\"Oil\",\"Salt\"],\n",
    "            \"instructions\": \"Spread the ghee on the bread, then roast the bread,mix egg with chilli and onion and salt the fry the egg and bread \",\n",
    "        },\n",
    "        {\n",
    "            \"name\": \"Fried rice\",\n",
    "            \"ingredients\": [\"Basmati Rice\",\"Beans\",\"carrot\",\"pepper\",\"ghee\",\"onion\"],\n",
    "            \"instructions\": \"boil the rice with spices and ghee, prepare the vegitables then mix the vegitable and rice\",\n",
    "        },\n",
    "        {\n",
    "            \"name\": \"chicken roast\",\n",
    "            \"ingredients\": [\"chicken\",\"chilli powder\",\"turmeric powder\",\"ginger\",\"garlic\",\"Salt\",\"curd\",\"onion\",\"masala powder\"],\n",
    "            \"instruction\": \"marinate chicken with masala and curd then cut onion then then heat pan put oil then fry onion with masala mix then put marinated chicken then wait for ready \",\n",
    "        },\n",
    "    ]\n",
    "    check_recipes = []\n",
    "    \n",
    "    for recipe in recipes:\n",
    "        if all(ingredient in recipe['ingredients'] for ingredient in ingredients):\n",
    "            check_recipes.append(recipe['name'])\n",
    "    return check_recipes\n",
    "if __name__ == \"__main__\":\n",
    "    print(\"Recipe Finder\")\n",
    "    user_input = input(\"Enter ingredients you have (comma-separated): \")\n",
    "    ingredients = [ingredient.strip() for ingredient in user_input.split(',')]\n",
    "    check_recipes = find_recipes(ingredients)\n",
    "    if check_recipes:\n",
    "        print(\"\\nRecipes you can make with the ingredient:\")\n",
    "        for recipe in check_recipes:\n",
    "            print(recipe)\n",
    "    else:\n",
    "        print(\"\\nNo recipes found with the provided ingredients.\")"
   ]
  }
 ],
 "metadata": {
  "kernelspec": {
   "display_name": "Python 3",
   "language": "python",
   "name": "python3"
  },
  "language_info": {
   "codemirror_mode": {
    "name": "ipython",
    "version": 3
   },
   "file_extension": ".py",
   "mimetype": "text/x-python",
   "name": "python",
   "nbconvert_exporter": "python",
   "pygments_lexer": "ipython3",
   "version": "3.11.4"
  },
  "orig_nbformat": 4
 },
 "nbformat": 4,
 "nbformat_minor": 2
}
