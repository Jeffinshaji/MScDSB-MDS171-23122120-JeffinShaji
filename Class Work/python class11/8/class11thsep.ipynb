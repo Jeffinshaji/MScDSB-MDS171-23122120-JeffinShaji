{
 "cells": [
  {
   "cell_type": "markdown",
   "metadata": {},
   "source": []
  },
  {
   "cell_type": "markdown",
   "metadata": {},
   "source": [
    "While Loop"
   ]
  },
  {
   "cell_type": "code",
   "execution_count": 1,
   "metadata": {},
   "outputs": [
    {
     "name": "stdout",
     "output_type": "stream",
     "text": [
      "0 0\n",
      "1 1\n",
      "2 4\n",
      "3 9\n",
      "4 16\n",
      "5 25\n",
      "6 36\n"
     ]
    }
   ],
   "source": [
    "a=0\n",
    "while a<7:\n",
    "    res=a*a\n",
    "    print(a,res)\n",
    "    a=a+1"
   ]
  },
  {
   "cell_type": "markdown",
   "metadata": {},
   "source": [
    "Break And Cont"
   ]
  },
  {
   "cell_type": "code",
   "execution_count": 6,
   "metadata": {},
   "outputs": [
    {
     "name": "stdout",
     "output_type": "stream",
     "text": [
      "1\n",
      "2\n",
      "3\n",
      "4\n",
      "5\n",
      "6\n"
     ]
    }
   ],
   "source": [
    "for i in range(1,10,1):\n",
    "    if i==7:\n",
    "        break\n",
    "    print (i)"
   ]
  },
  {
   "cell_type": "code",
   "execution_count": 5,
   "metadata": {},
   "outputs": [
    {
     "name": "stdout",
     "output_type": "stream",
     "text": [
      "1\n",
      "2\n",
      "3\n",
      "4\n",
      "5\n",
      "6\n",
      "8\n",
      "9\n"
     ]
    }
   ],
   "source": [
    "for i in range(1,10,1):\n",
    "    if i==7:\n",
    "        continue\n",
    "    print (i)"
   ]
  },
  {
   "cell_type": "markdown",
   "metadata": {},
   "source": [
    "SET"
   ]
  },
  {
   "cell_type": "code",
   "execution_count": 1,
   "metadata": {},
   "outputs": [
    {
     "name": "stdout",
     "output_type": "stream",
     "text": [
      "['abc', 'def', 'abc', 'efd', 'bcd']\n",
      "{'def', 'bcd', 'abc', 'efd'}\n"
     ]
    }
   ],
   "source": [
    "list_ex=[\"abc\",\"def\",\"abc\",\"efd\",\"bcd\"]\n",
    "set_ex=set(list_ex)\n",
    "print(list_ex)\n",
    "print(set_ex)"
   ]
  },
  {
   "cell_type": "markdown",
   "metadata": {},
   "source": [
    "convert set back to list"
   ]
  },
  {
   "cell_type": "code",
   "execution_count": 2,
   "metadata": {},
   "outputs": [
    {
     "name": "stdout",
     "output_type": "stream",
     "text": [
      "['abc', 'def', 'abc', 'efd', 'bcd']\n",
      "{'def', 'bcd', 'abc', 'efd'}\n",
      "['def', 'bcd', 'abc', 'efd']\n",
      "<class 'list'>\n",
      "<class 'set'>\n",
      "<class 'list'>\n"
     ]
    }
   ],
   "source": [
    "list_ex=[\"abc\",\"def\",\"abc\",\"efd\",\"bcd\"]\n",
    "set_ex=set(list_ex)\n",
    "back=list(set_ex)\n",
    "print(list_ex)\n",
    "print(set_ex)\n",
    "print(back)\n",
    "print(type(list_ex))\n",
    "print(type(set_ex))\n",
    "print(type(back))"
   ]
  },
  {
   "cell_type": "markdown",
   "metadata": {},
   "source": [
    "create a list of names that are random and repeating from userinput identify the unique items and their count"
   ]
  },
  {
   "cell_type": "code",
   "execution_count": 1,
   "metadata": {},
   "outputs": [],
   "source": [
    "names=[]\n",
    "for i in range (0,10,1):\n",
    "    name = input(\"enter the name \")\n",
    "    name = name.strip()\n",
    "    name = name.upper()\n",
    "    names.append(name)\n",
    "#print(name)\n",
    "\n"
   ]
  },
  {
   "cell_type": "code",
   "execution_count": null,
   "metadata": {},
   "outputs": [],
   "source": [
    "unique_names=set (names)\n",
    "print(unique_names)\n",
    "for searh in unique_names:\n",
    "    #search=\"jeffin\"\n",
    "    count=0\n",
    "    for item in names:\n",
    "        if search == item:\n",
    "           # print(\"found\")\n",
    "            count = count+1\n",
    "    print(search,count) "
   ]
  },
  {
   "cell_type": "markdown",
   "metadata": {},
   "source": [
    "Dictionary"
   ]
  },
  {
   "cell_type": "code",
   "execution_count": 8,
   "metadata": {},
   "outputs": [],
   "source": [
    "my_dict={\n",
    "\"Name\": \"Jeffin Shaji\",\n",
    "\"phone\": 9745786677,\n",
    "\"email\":\"jeffinshaji@gmail.com\"\n",
    "}"
   ]
  },
  {
   "cell_type": "code",
   "execution_count": null,
   "metadata": {},
   "outputs": [
    {
     "name": "stdout",
     "output_type": "stream",
     "text": [
      "Jeffin Shaji\n"
     ]
    }
   ],
   "source": [
    "print(my_dict[\"Name\"])"
   ]
  },
  {
   "cell_type": "code",
   "execution_count": 10,
   "metadata": {},
   "outputs": [
    {
     "name": "stdout",
     "output_type": "stream",
     "text": [
      "{'Name': 'Jeffi', 'phone': 9745786677, 'email': 'jeffinshaji@gmail.com'}\n"
     ]
    }
   ],
   "source": [
    "my_dict[\"Name\"]=\"Jeffi\"\n",
    "print(my_dict)"
   ]
  },
  {
   "cell_type": "code",
   "execution_count": 11,
   "metadata": {},
   "outputs": [
    {
     "name": "stdout",
     "output_type": "stream",
     "text": [
      "{'Name': 'Jeffi', 'phone': 9745786677, 'email': 'jeffinshaji@gmail.com', 'Address': 'ChristUniversity Lavasa'}\n"
     ]
    }
   ],
   "source": [
    "my_dict[\"Address\"]=\"ChristUniversity Lavasa\"\n",
    "print(my_dict)"
   ]
  },
  {
   "cell_type": "code",
   "execution_count": 12,
   "metadata": {},
   "outputs": [
    {
     "name": "stdout",
     "output_type": "stream",
     "text": [
      "dict_keys(['Name', 'phone', 'email', 'Address'])\n",
      "Name\n",
      "phone\n",
      "email\n",
      "Address\n"
     ]
    }
   ],
   "source": [
    "print(my_dict.keys())\n",
    "for key in my_dict.keys():\n",
    "    print(key)"
   ]
  },
  {
   "cell_type": "code",
   "execution_count": 13,
   "metadata": {},
   "outputs": [
    {
     "data": {
      "text/plain": [
       "dict_values(['Jeffi', 9745786677, 'jeffinshaji@gmail.com', 'ChristUniversity Lavasa'])"
      ]
     },
     "execution_count": 13,
     "metadata": {},
     "output_type": "execute_result"
    }
   ],
   "source": [
    "my_dict.values()"
   ]
  },
  {
   "cell_type": "code",
   "execution_count": 14,
   "metadata": {},
   "outputs": [
    {
     "name": "stdout",
     "output_type": "stream",
     "text": [
      "jeffin\n",
      "nikhil\n",
      "vikash\n",
      "naveen\n",
      "fathima\n"
     ]
    }
   ],
   "source": [
    "students={\"names\":[\"jeffin\",\"nikhil\",\"vikash\",\"naveen\",\"fathima\"],\"rollnumbers\":[1,2,3,4,5]}\n",
    "for name in students[\"names\"]:\n",
    "    print(name)"
   ]
  },
  {
   "cell_type": "code",
   "execution_count": 20,
   "metadata": {},
   "outputs": [
    {
     "name": "stdout",
     "output_type": "stream",
     "text": [
      "jeffin\n"
     ]
    }
   ],
   "source": [
    "students={\"names\":[\"jeffin\",\"nikhil\",\"vikash\",\"naveen\",\"fathima\"],\"rollnumbers\":[1,2,3,4,5]}\n",
    "#for name in students[\"names\"]:\n",
    "   # print(name)\n",
    "print(students[\"names\"][0])"
   ]
  },
  {
   "cell_type": "code",
   "execution_count": 21,
   "metadata": {},
   "outputs": [],
   "source": [
    "mscds =[\n",
    "{\n",
    "    \"Rollnumber\":23122101,\n",
    "    \"Name\":\"Adith\",\n",
    "    \"Email\":\"Adith@gmail.com\",\n",
    "    \"Phone\":987456321\n",
    "},\n",
    "{\n",
    "    \"Rollnumber\":23122102,\n",
    "    \"Name\":\"Amir\",\n",
    "    \"Email\":\"Amir@gmail.com\",\n",
    "    \"Phone\":987456322\n",
    "},\n",
    "{\n",
    "    \"Rollnumber\":23122101,\n",
    "    \"Name\":\"Abith\",\n",
    "    \"Email\":\"Abith@gmail.com\",\n",
    "    \"Phone\":987456323\n",
    "}\n",
    "]"
   ]
  },
  {
   "cell_type": "code",
   "execution_count": 23,
   "metadata": {},
   "outputs": [
    {
     "name": "stdout",
     "output_type": "stream",
     "text": [
      "{'Rollnumber': 23122101, 'Name': 'Adith', 'Email': 'Adith@gmail.com', 'Phone': 987456321}\n",
      "23122101\tAdith\tAdith@gmail.com\t987456321\t\n",
      "{'Rollnumber': 23122102, 'Name': 'Amir', 'Email': 'Amir@gmail.com', 'Phone': 987456322}\n",
      "23122102\tAmir\tAmir@gmail.com\t987456322\t\n",
      "{'Rollnumber': 23122101, 'Name': 'Abith', 'Email': 'Abith@gmail.com', 'Phone': 987456323}\n",
      "23122101\tAbith\tAbith@gmail.com\t987456323\t\n"
     ]
    }
   ],
   "source": [
    "for student in mscds:\n",
    "    print(student)\n",
    "    for key in student.keys():\n",
    "        print(student[key],end=\"\\t\")\n",
    "    print()"
   ]
  },
  {
   "cell_type": "markdown",
   "metadata": {},
   "source": [
    "Menu Driven"
   ]
  },
  {
   "cell_type": "code",
   "execution_count": null,
   "metadata": {},
   "outputs": [
    {
     "name": "stdout",
     "output_type": "stream",
     "text": [
      "Menu Options\n",
      "******************************\n",
      "1.Enter a name \n",
      "2.Search a name \n",
      "3.List all name \n",
      "4.Exit\n",
      "------------------------------\n",
      "------------------------------\n",
      "Menu Options\n",
      "******************************\n",
      "1.Enter a name \n",
      "2.Search a name \n",
      "3.List all name \n",
      "4.Exit\n",
      "Name added successfully\n",
      "Menu Options\n",
      "******************************\n",
      "1.Enter a name \n",
      "2.Search a name \n",
      "3.List all name \n",
      "4.Exit\n",
      "Name added successfully\n",
      "Menu Options\n",
      "******************************\n",
      "1.Enter a name \n",
      "2.Search a name \n",
      "3.List all name \n",
      "4.Exit\n",
      "Name added successfully\n",
      "Menu Options\n",
      "******************************\n",
      "1.Enter a name \n",
      "2.Search a name \n",
      "3.List all name \n",
      "4.Exit\n",
      "Name added successfully\n",
      "Menu Options\n",
      "******************************\n",
      "1.Enter a name \n",
      "2.Search a name \n",
      "3.List all name \n",
      "4.Exit\n",
      "------------------------------\n",
      "Jeffin\n",
      "Gokul\n",
      "Naveen\n",
      "Fathima\n",
      "------------------------------\n",
      "Menu Options\n",
      "******************************\n",
      "1.Enter a name \n",
      "2.Search a name \n",
      "3.List all name \n",
      "4.Exit\n",
      "------------------------------\n",
      "Jeffin\n",
      "Gokul\n",
      "Naveen\n",
      "Fathima\n",
      "------------------------------\n",
      "Menu Options\n",
      "******************************\n",
      "1.Enter a name \n",
      "2.Search a name \n",
      "3.List all name \n",
      "4.Exit\n",
      "Menu Options\n",
      "******************************\n",
      "1.Enter a name \n",
      "2.Search a name \n",
      "3.List all name \n",
      "4.Exit\n",
      "------------------------------\n",
      "Jeffin\n",
      "Gokul\n",
      "Naveen\n",
      "Fathima\n",
      "------------------------------\n",
      "Menu Options\n",
      "******************************\n",
      "1.Enter a name \n",
      "2.Search a name \n",
      "3.List all name \n",
      "4.Exit\n",
      "Menu Options\n",
      "******************************\n",
      "1.Enter a name \n",
      "2.Search a name \n",
      "3.List all name \n",
      "4.Exit\n"
     ]
    },
    {
     "ename": "TypeError",
     "evalue": "searchName() takes 0 positional arguments but 1 was given",
     "output_type": "error",
     "traceback": [
      "\u001b[1;31m---------------------------------------------------------------------------\u001b[0m",
      "\u001b[1;31mTypeError\u001b[0m                                 Traceback (most recent call last)",
      "\u001b[1;32md:\\Python\\python class11\\8\\class11thsep.ipynb Cell 26\u001b[0m line \u001b[0;36m4\n\u001b[0;32m     <a href='vscode-notebook-cell:/d%3A/Python/python%20class11/8/class11thsep.ipynb#X33sZmlsZQ%3D%3D?line=42'>43</a>\u001b[0m \u001b[39melif\u001b[39;00m choice \u001b[39m==\u001b[39m \u001b[39m2\u001b[39m:\n\u001b[0;32m     <a href='vscode-notebook-cell:/d%3A/Python/python%20class11/8/class11thsep.ipynb#X33sZmlsZQ%3D%3D?line=43'>44</a>\u001b[0m     userinput \u001b[39m=\u001b[39m \u001b[39minput\u001b[39m (\u001b[39m\"\u001b[39m\u001b[39mEnter the name to be searched\u001b[39m\u001b[39m\"\u001b[39m)\n\u001b[1;32m---> <a href='vscode-notebook-cell:/d%3A/Python/python%20class11/8/class11thsep.ipynb#X33sZmlsZQ%3D%3D?line=44'>45</a>\u001b[0m     searchName(userinput)\n\u001b[0;32m     <a href='vscode-notebook-cell:/d%3A/Python/python%20class11/8/class11thsep.ipynb#X33sZmlsZQ%3D%3D?line=45'>46</a>\u001b[0m \u001b[39melif\u001b[39;00m choice \u001b[39m==\u001b[39m \u001b[39m3\u001b[39m:\n\u001b[0;32m     <a href='vscode-notebook-cell:/d%3A/Python/python%20class11/8/class11thsep.ipynb#X33sZmlsZQ%3D%3D?line=46'>47</a>\u001b[0m     printNames()\n",
      "\u001b[1;31mTypeError\u001b[0m: searchName() takes 0 positional arguments but 1 was given"
     ]
    },
    {
     "ename": "",
     "evalue": "",
     "output_type": "error",
     "traceback": [
      "\u001b[1;31mThe Kernel crashed while executing code in the the current cell or a previous cell. Please review the code in the cell(s) to identify a possible cause of the failure. Click <a href='https://aka.ms/vscodeJupyterKernelCrash'>here</a> for more info. View Jupyter <a href='command:jupyter.viewOutput'>log</a> for further details."
     ]
    }
   ],
   "source": [
    "listNames = [] #empty list to store the name \n",
    "# store a name to list\n",
    "def storeName (name):\n",
    "    name=name.strip().title()\n",
    "    if name in listNames:\n",
    "        return False\n",
    "    else:\n",
    "        listNames.append(name)\n",
    "        return True\n",
    "# list all names\n",
    "def printNames():\n",
    "    print(\"-\"*30)\n",
    "    for name in listNames:\n",
    "        print(name)\n",
    "    print(\"-\"*30)\n",
    "# search for a name \n",
    "def searchName():\n",
    "    name = name.strip().title()\n",
    "    flag = False\n",
    "    for item in listNames:\n",
    "        if name == item:\n",
    "            flag ==True\n",
    "            break\n",
    "    if flag == True:\n",
    "        print(\"Name exist in the list\")\n",
    "    else:\n",
    "        print(\"Name doesnot Exist\")\n",
    "while True:\n",
    "    print(\"Menu Options\")\n",
    "    print(\"*\"*30)\n",
    "    print(\"1.Enter a name \")\n",
    "    print(\"2.Search a name \")\n",
    "    print(\"3.List all name \")\n",
    "    print(\"4.Exit\")\n",
    "    choice = int(input(\"Enter your choice :\"))\n",
    "    if choice == 1:\n",
    "        userinput= input(\"Enter a name\")\n",
    "        retVal = storeName(userinput)\n",
    "        if retVal == True:\n",
    "            print(\"Name added successfully\")\n",
    "        else:\n",
    "            print(\"Name exists in the list\")\n",
    "    elif choice == 2:\n",
    "        userinput = input (\"Enter the name to be searched\")\n",
    "        searchName(userinput)\n",
    "    elif choice == 3:\n",
    "        printNames()\n",
    "    elif choice == 4:\n",
    "        exit()\n",
    "    else:\n",
    "        print(\"invalid option. Please choose correct one!\")\n"
   ]
  },
  {
   "cell_type": "markdown",
   "metadata": {},
   "source": [
    "create a menu driven program that collects student deatails: \n",
    "name, email, phone use dictionary to store student details\n",
    "menu options: create students ,seacrh for students, print students "
   ]
  },
  {
   "cell_type": "code",
   "execution_count": 1,
   "metadata": {},
   "outputs": [
    {
     "name": "stdout",
     "output_type": "stream",
     "text": [
      "Menu Options\n",
      "1. Enter Student Info\n",
      "2. List Students\n",
      "3. Exit\n",
      "Invalid Choice\n",
      "Menu Options\n",
      "1. Enter Student Info\n",
      "2. List Students\n",
      "3. Exit\n",
      "Menu Options\n",
      "1. Enter Student Info\n",
      "2. List Students\n",
      "3. Exit\n",
      "Invalid Choice\n",
      "Menu Options\n",
      "1. Enter Student Info\n",
      "2. List Students\n",
      "3. Exit\n",
      "Menu Options\n",
      "1. Enter Student Info\n",
      "2. List Students\n",
      "3. Exit\n"
     ]
    },
    {
     "ename": "",
     "evalue": "",
     "output_type": "error",
     "traceback": [
      "\u001b[1;31mCannot execute code, session has been disposed. Please try restarting the Kernel."
     ]
    },
    {
     "ename": "",
     "evalue": "",
     "output_type": "error",
     "traceback": [
      "\u001b[1;31mThe Kernel crashed while executing code in the the current cell or a previous cell. Please review the code in the cell(s) to identify a possible cause of the failure. Click <a href='https://aka.ms/vscodeJupyterKernelCrash'>here</a> for more info. View Jupyter <a href='command:jupyter.viewOutput'>log</a> for further details."
     ]
    }
   ],
   "source": [
    "student_details={}\n",
    "def create_student(name,regno,email,phone):\n",
    "    student = {\n",
    "        \"Name\":name,\n",
    "        \"Email\":email,\n",
    "        \"Phone\":phone\n",
    "    }\n",
    "    student_details[regno] = student\n",
    "def details():\n",
    "    name=input(\"enter student name\")\n",
    "    regno=input(\"enter the regno\")\n",
    "    email=input(\"enter student email\")\n",
    "    phone=input(\"enter student phone number\")\n",
    "    return name,regno,email,phone\n",
    "    \n",
    "def printstudent():\n",
    "    print(\"Regno\\tName\\tEmail\\tPhone\")\n",
    "    for regno in student_details.keys():\n",
    "        print(regno,end=\"\\t\")\n",
    "        for key in student_details[regno]:\n",
    "            print(student_details[regno][key],end='\\t')\n",
    "        print()\n",
    "while True:\n",
    "    print(\"Menu Options\")\n",
    "    print(\"1. Enter Student Info\")\n",
    "    print(\"2. List Students\")\n",
    "    print(\"3. Exit\")\n",
    "\n",
    "    choice = input(\"Enter the choice\").strip()\n",
    "    if choice == \"1\":\n",
    "        name, regno, email, phone = details()\n",
    "        create_student(name, regno, email, phone)\n",
    "    elif choice == \"2\":\n",
    "        printstudent()\n",
    "    elif choice == \"3\":\n",
    "        exit()\n",
    "    else:\n",
    "        print(\"Invalid Choice\")\n",
    "        \n",
    "    "
   ]
  },
  {
   "cell_type": "code",
   "execution_count": null,
   "metadata": {},
   "outputs": [
    {
     "name": "stdout",
     "output_type": "stream",
     "text": [
      "Menu Options\n",
      "1. Enter Student Info\n",
      "2. List Students\n",
      "3. Exit\n",
      "Menu Options\n",
      "1. Enter Student Info\n",
      "2. List Students\n",
      "3. Exit\n",
      "Regno\tName\tEmail\tPhone\n",
      "Menu Options\n",
      "1. Enter Student Info\n",
      "2. List Students\n",
      "3. Exit\n",
      "Menu Options\n",
      "1. Enter Student Info\n",
      "2. List Students\n",
      "3. Exit\n",
      "Regno\tName\tEmail\tPhone\n",
      "1233456\tjeffin\tjeffin2gmail.com\t2\t\n",
      "Menu Options\n",
      "1. Enter Student Info\n",
      "2. List Students\n",
      "3. Exit\n",
      "Menu Options\n",
      "1. Enter Student Info\n",
      "2. List Students\n",
      "3. Exit\n",
      "Menu Options\n",
      "1. Enter Student Info\n",
      "2. List Students\n",
      "3. Exit\n"
     ]
    },
    {
     "ename": "",
     "evalue": "",
     "output_type": "error",
     "traceback": [
      "\u001b[1;31mCannot execute code, session has been disposed. Please try restarting the Kernel."
     ]
    },
    {
     "ename": "",
     "evalue": "",
     "output_type": "error",
     "traceback": [
      "\u001b[1;31mThe Kernel crashed while executing code in the the current cell or a previous cell. Please review the code in the cell(s) to identify a possible cause of the failure. Click <a href='https://aka.ms/vscodeJupyterKernelCrash'>here</a> for more info. View Jupyter <a href='command:jupyter.viewOutput'>log</a> for further details."
     ]
    }
   ],
   "source": [
    "# Create a menu driven program that collects students details\n",
    "# > Name, Register Number, Email & Phone\n",
    "# [Use dictionary to store student details]\n",
    "\n",
    "# Menu Options\n",
    "# 1. Create Students\n",
    "# 2. Search for Students\n",
    "# 3. Print Students\n",
    "\n",
    "studentDict = {}\n",
    "\n",
    "def createStudent(name,regno,email,phone):\n",
    "    student = {\n",
    "        \"Name\": name,\n",
    "        \"Email\": email,\n",
    "        \"Phone\": phone\n",
    "    }\n",
    "\n",
    "    studentDict[regno] = student\n",
    "\n",
    "def colletStudentInfo():\n",
    "    name = input(\"Enter Student Name: \")\n",
    "    regno = input(\"Enter Student regno: \")\n",
    "    email = input(\"Enter Student Email: \")\n",
    "    phone = input(\"Enter Student Phone: \")\n",
    "    return name, regno, email, phone\n",
    "\n",
    "def printStudents():\n",
    "    print(\"Regno\\tName\\tEmail\\tPhone\")\n",
    "    for regno in studentDict.keys():\n",
    "        print(regno,end=\"\\t\")\n",
    "        for key in studentDict[regno]:\n",
    "            print(studentDict[regno][key],end='\\t')\n",
    "        print()\n",
    "\n",
    "while True:\n",
    "    print(\"Menu Options\")\n",
    "    print(\"1. Enter Student Info\")\n",
    "    print(\"2. List Students\")\n",
    "    print(\"3. Exit\")\n",
    "\n",
    "    choice = input(\"Enter the choice\").strip()\n",
    "    if choice == \"1\":\n",
    "        name, regno, email, phone = colletStudentInfo()\n",
    "        createStudent(name, regno, email, phone)\n",
    "    elif choice == \"2\":\n",
    "        printStudents()\n",
    "    elif choice == \"3\":\n",
    "        exit()\n",
    "    else:\n",
    "        print(\"Invalid Choice\")\n",
    "    "
   ]
  }
 ],
 "metadata": {
  "kernelspec": {
   "display_name": "Python 3",
   "language": "python",
   "name": "python3"
  },
  "language_info": {
   "codemirror_mode": {
    "name": "ipython",
    "version": 3
   },
   "file_extension": ".py",
   "mimetype": "text/x-python",
   "name": "python",
   "nbconvert_exporter": "python",
   "pygments_lexer": "ipython3",
   "version": "3.11.4"
  },
  "orig_nbformat": 4
 },
 "nbformat": 4,
 "nbformat_minor": 2
}
