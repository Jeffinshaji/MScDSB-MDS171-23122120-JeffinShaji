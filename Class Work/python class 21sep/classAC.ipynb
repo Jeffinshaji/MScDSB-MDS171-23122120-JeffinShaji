{
 "cells": [
  {
   "cell_type": "code",
   "execution_count": 1,
   "metadata": {},
   "outputs": [
    {
     "name": "stdout",
     "output_type": "stream",
     "text": [
      "1. To Deposit\n",
      "2. To Withdraw\n",
      "3.exit\n"
     ]
    },
    {
     "ename": "AttributeError",
     "evalue": "'BankAccount' object has no attribute 'balance'",
     "output_type": "error",
     "traceback": [
      "\u001b[1;31m---------------------------------------------------------------------------\u001b[0m",
      "\u001b[1;31mAttributeError\u001b[0m                            Traceback (most recent call last)",
      "\u001b[1;32md:\\Python\\python class 21sep\\classAC.ipynb Cell 1\u001b[0m line \u001b[0;36m3\n\u001b[0;32m     <a href='vscode-notebook-cell:/d%3A/Python/python%20class%2021sep/classAC.ipynb#W0sZmlsZQ%3D%3D?line=31'>32</a>\u001b[0m     Name \u001b[39m=\u001b[39m \u001b[39minput\u001b[39m(\u001b[39m\"\u001b[39m\u001b[39mEnter the Name: \u001b[39m\u001b[39m\"\u001b[39m)\n\u001b[0;32m     <a href='vscode-notebook-cell:/d%3A/Python/python%20class%2021sep/classAC.ipynb#W0sZmlsZQ%3D%3D?line=32'>33</a>\u001b[0m     deposit \u001b[39m=\u001b[39m \u001b[39mint\u001b[39m(\u001b[39minput\u001b[39m(\u001b[39m\"\u001b[39m\u001b[39mEnter the Input\u001b[39m\u001b[39m\"\u001b[39m))\n\u001b[1;32m---> <a href='vscode-notebook-cell:/d%3A/Python/python%20class%2021sep/classAC.ipynb#W0sZmlsZQ%3D%3D?line=33'>34</a>\u001b[0m     account\u001b[39m.\u001b[39;49mdeposit1(Name,deposit)\n\u001b[0;32m     <a href='vscode-notebook-cell:/d%3A/Python/python%20class%2021sep/classAC.ipynb#W0sZmlsZQ%3D%3D?line=34'>35</a>\u001b[0m \u001b[39melif\u001b[39;00m user_input \u001b[39m==\u001b[39m \u001b[39m2\u001b[39m:\n\u001b[0;32m     <a href='vscode-notebook-cell:/d%3A/Python/python%20class%2021sep/classAC.ipynb#W0sZmlsZQ%3D%3D?line=35'>36</a>\u001b[0m     Name \u001b[39m=\u001b[39m \u001b[39minput\u001b[39m(\u001b[39m\"\u001b[39m\u001b[39mEnter the Name: \u001b[39m\u001b[39m\"\u001b[39m)\n",
      "\u001b[1;32md:\\Python\\python class 21sep\\classAC.ipynb Cell 1\u001b[0m line \u001b[0;36m8\n\u001b[0;32m      <a href='vscode-notebook-cell:/d%3A/Python/python%20class%2021sep/classAC.ipynb#W0sZmlsZQ%3D%3D?line=5'>6</a>\u001b[0m \u001b[39mdef\u001b[39;00m \u001b[39mdeposit1\u001b[39m(\u001b[39mself\u001b[39m,name,deposit):\n\u001b[0;32m      <a href='vscode-notebook-cell:/d%3A/Python/python%20class%2021sep/classAC.ipynb#W0sZmlsZQ%3D%3D?line=6'>7</a>\u001b[0m     total \u001b[39m=\u001b[39m \u001b[39m0\u001b[39m\n\u001b[1;32m----> <a href='vscode-notebook-cell:/d%3A/Python/python%20class%2021sep/classAC.ipynb#W0sZmlsZQ%3D%3D?line=7'>8</a>\u001b[0m     \u001b[39mif\u001b[39;00m \u001b[39mself\u001b[39;49m\u001b[39m.\u001b[39;49mbalance[name]\u001b[39m>\u001b[39m\u001b[39m=\u001b[39m\u001b[39m0\u001b[39m:\n\u001b[0;32m      <a href='vscode-notebook-cell:/d%3A/Python/python%20class%2021sep/classAC.ipynb#W0sZmlsZQ%3D%3D?line=8'>9</a>\u001b[0m         total \u001b[39m+\u001b[39m\u001b[39m=\u001b[39m \u001b[39mself\u001b[39m\u001b[39m.\u001b[39mbalance[name]\u001b[39m+\u001b[39mdeposit\n\u001b[0;32m     <a href='vscode-notebook-cell:/d%3A/Python/python%20class%2021sep/classAC.ipynb#W0sZmlsZQ%3D%3D?line=9'>10</a>\u001b[0m         \u001b[39mprint\u001b[39m(total)\n",
      "\u001b[1;31mAttributeError\u001b[0m: 'BankAccount' object has no attribute 'balance'"
     ]
    }
   ],
   "source": [
    "class BankAccount:\n",
    "    def _init_(self):\n",
    "        self.balance = {\"Ram\":5000,\"Priya\":400}\n",
    "        \n",
    "        \n",
    "    def deposit1(self,name,deposit):\n",
    "        total = 0\n",
    "        if self.balance[name]>=0:\n",
    "            total += self.balance[name]+deposit\n",
    "            print(total)\n",
    "    def withdraw1(self,name,withdraw):\n",
    "        total = 0\n",
    "        if self.balance[name]>=0:\n",
    "            total = self.balance[name]-withdraw\n",
    "            print(total)\n",
    "\n",
    "\n",
    "\n",
    "# amount = int(input(\"Enter the Amount\"))\n",
    "# account.deposit(amount)\n",
    "# withdraw = int(input(\"Amount to withdrawn\"))\n",
    "# account.withdraw(withdraw)\n",
    "# inputoption = int(input(\"Enter the Input\"))\n",
    "\n",
    "account = BankAccount()\n",
    "while True:\n",
    "    print(\"1. To Deposit\")\n",
    "    print(\"2. To Withdraw\")\n",
    "    print(\"3.exit\")\n",
    "    user_input = int(input(\"Enter the choice\"))\n",
    "    if user_input == 1:\n",
    "        Name = input(\"Enter the Name: \")\n",
    "        deposit = int(input(\"Enter the Input\"))\n",
    "        account.deposit1(Name,deposit)\n",
    "    elif user_input == 2:\n",
    "        Name = input(\"Enter the Name: \")\n",
    "        withdraw = int(input(\"Enter the amount to Withdraw\"))\n",
    "        account.withdraw1(Name,withdraw)\n",
    "    elif user_input == 3:\n",
    "        break\n",
    "    else:\n",
    "        print(\"Incorrect Entry\")"
   ]
  }
 ],
 "metadata": {
  "kernelspec": {
   "display_name": "Python 3",
   "language": "python",
   "name": "python3"
  },
  "language_info": {
   "codemirror_mode": {
    "name": "ipython",
    "version": 3
   },
   "file_extension": ".py",
   "mimetype": "text/x-python",
   "name": "python",
   "nbconvert_exporter": "python",
   "pygments_lexer": "ipython3",
   "version": "3.11.4"
  },
  "orig_nbformat": 4
 },
 "nbformat": 4,
 "nbformat_minor": 2
}
