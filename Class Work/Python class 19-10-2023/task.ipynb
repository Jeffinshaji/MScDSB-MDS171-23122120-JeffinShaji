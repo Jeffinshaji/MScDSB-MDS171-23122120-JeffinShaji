{
 "cells": [
  {
   "cell_type": "markdown",
   "metadata": {},
   "source": [
    "Write a python program there will be fuction name create data set that take dictionary, filename, number of rows as arguments.the dictionary is having the following structure \n",
    "\n",
    "{\n",
    "    \n",
    "    \"colum\":[domain of value]\n",
    "\n",
    "\n",
    "}\n",
    "\n",
    "your function will select random values each of the domain and create a row for you.The number of rows that has to be created is the parameter save the file with the number of rows load this data set using pandas and display basic information "
   ]
  },
  {
   "cell_type": "code",
   "execution_count": 8,
   "metadata": {},
   "outputs": [],
   "source": [
    "import random\n",
    "rowNo=int(input(\"enter total no of row \"))\n",
    "fname=input(\"enter the filename\")\n",
    "bikes={\n",
    "        \"Harley-Davidson\":[\"iron888\",\"street fighter\",\"x440\"],\n",
    "        \"Bajaj\":[\"pulsar\",\"Dominar\",\"platina\"],\n",
    "        \"Hero\":[\"splender\",\"passion pro\",\"glamour\"]\n",
    "    }\n",
    "\n",
    "def createdataset(bikes,fname,rowNo):\n",
    "    with open(fname,\"w+\")as file:\n",
    "        for i in bikes:\n",
    "            file.write(i+\",\")\n",
    "        file.write(\"\\n\")    \n",
    "    for i in range(rowNo):\n",
    "        for j in bikes:\n",
    "            r = random.randint(0,2)\n",
    "            with open(fname,\"a+\")as file:\n",
    "                file.write(bikes[j][r]+\",\")\n",
    "        with open(fname , \"a+\")as file:\n",
    "            file.write(\"\\n\")\n",
    "    \n",
    "\n",
    "createdataset(bikes , fname , rowNo)\n"
   ]
  },
  {
   "cell_type": "markdown",
   "metadata": {},
   "source": []
  },
  {
   "cell_type": "code",
   "execution_count": 20,
   "metadata": {},
   "outputs": [
    {
     "name": "stdout",
     "output_type": "stream",
     "text": [
      "x440\n",
      "platina\n",
      "splender\n"
     ]
    }
   ],
   "source": [
    "import random\n",
    "bikes={\n",
    "        \"Harley-Davidson\":[\"iron888\",\"street fighter\",\"x440\"],\n",
    "        \"Bajaj\":[\"pulsar\",\"Dominar\",\"platina\"],\n",
    "        \"Hero\":[\"splender\",\"passion pro\",\"glamour\"]\n",
    "    }\n",
    "\n",
    "for i in bikes:\n",
    "    r = random.randint(0,2)\n",
    "    with open(\"naveen.csv\" , \"w+\")as file:\n",
    "        for i in bikes:\n",
    "            file.write(bikes[i][r] + \",\")"
   ]
  },
  {
   "cell_type": "code",
   "execution_count": null,
   "metadata": {},
   "outputs": [],
   "source": []
  }
 ],
 "metadata": {
  "kernelspec": {
   "display_name": "Python 3",
   "language": "python",
   "name": "python3"
  },
  "language_info": {
   "codemirror_mode": {
    "name": "ipython",
    "version": 3
   },
   "file_extension": ".py",
   "mimetype": "text/x-python",
   "name": "python",
   "nbconvert_exporter": "python",
   "pygments_lexer": "ipython3",
   "version": "3.11.4"
  }
 },
 "nbformat": 4,
 "nbformat_minor": 2
}
