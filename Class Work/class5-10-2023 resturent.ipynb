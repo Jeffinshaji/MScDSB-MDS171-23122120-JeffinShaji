{
 "cells": [
  {
   "cell_type": "markdown",
   "metadata": {},
   "source": [
    "Resturant\n",
    "Customers -> orders (Menu items)\n",
    "collecting orders\n",
    "billing\n",
    "print bill\n",
    "update order\n",
    "search for an order"
   ]
  },
  {
   "cell_type": "code",
   "execution_count": 5,
   "metadata": {},
   "outputs": [
    {
     "name": "stdout",
     "output_type": "stream",
     "text": [
      "The current options in the menu are:\n",
      "******************************\n",
      "{'rice\\n': 30, 'idli': 10}\n",
      "******************************\n",
      "{'510236': {'phone': '963258741', 'order': {'Rice': 1}}}\n"
     ]
    }
   ],
   "source": [
    "import random\n",
    "class resturant:\n",
    "    def __init__(self):\n",
    "        self.menu={\n",
    "            \"rice\":30,\n",
    "            \"idli\":10\n",
    "        }\n",
    "        #orderid :{set of order details}\n",
    "        self.order={}\n",
    "\n",
    "    def printmenu(self):\n",
    "        print(\"The current options in the menu are:\")\n",
    "        print(\"*\"*30)\n",
    "        print(self.menu)\n",
    "        print(\"*\"*30)\n",
    "\n",
    "    def generateorderid(self):\n",
    "        orderid=\"\"\n",
    "        for i in range(5):\n",
    "            orderid+=str(random.randint(i,10))\n",
    "        return orderid\n",
    "    \n",
    "    def collectorder(self):\n",
    "        self.printmenu()\n",
    "        phone=input(\"Enter customer phone number:\")\n",
    "        order={}\n",
    "        while True:\n",
    "            a=False\n",
    "            item=input(\"Enter the item name you want to order:\").strip().title()\n",
    "            qty=int(input(\"Enter the quantity of the item :\"))\n",
    "            for i in order.keys():\n",
    "                if i==item:\n",
    "                    order[item]=order[item]+qty\n",
    "                    a=True\n",
    "            if a==False:        \n",
    "                order[item]=qty\n",
    "            choice = input(\"Do you want to complete order ? 'Y'\").strip().lower()\n",
    "            if choice=='y':\n",
    "                break\n",
    "        orderid= self.generateorderid()\n",
    "        self.order[orderid] ={\n",
    "            \"phone\":phone,\n",
    "            \"order\":order\n",
    "        }\n",
    "        # print menu \n",
    "        # ask user to enter the value\n",
    "        # collect the value and update the order\n",
    "        # print the order\n",
    "        print(self.order)\n",
    "\n",
    "    def bill(self):\n",
    "        total=0\n",
    "        totalearn=0\n",
    "        for orderid in self.order:\n",
    "            print(self.order[])\n",
    "        \n",
    "\n",
    "\n",
    "cftb=resturant()\n",
    "cftb.collectorder()\n",
    "\n"
   ]
  },
  {
   "cell_type": "code",
   "execution_count": null,
   "metadata": {},
   "outputs": [],
   "source": []
  }
 ],
 "metadata": {
  "kernelspec": {
   "display_name": "Python 3",
   "language": "python",
   "name": "python3"
  },
  "language_info": {
   "codemirror_mode": {
    "name": "ipython",
    "version": 3
   },
   "file_extension": ".py",
   "mimetype": "text/x-python",
   "name": "python",
   "nbconvert_exporter": "python",
   "pygments_lexer": "ipython3",
   "version": "3.11.4"
  }
 },
 "nbformat": 4,
 "nbformat_minor": 2
}
