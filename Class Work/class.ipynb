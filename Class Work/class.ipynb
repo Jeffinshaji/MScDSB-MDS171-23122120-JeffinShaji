{
 "cells": [
  {
   "cell_type": "code",
   "execution_count": null,
   "metadata": {},
   "outputs": [],
   "source": [
    "def odd_even(ls)\n",
    "    odd=[]\n",
    "    even=[]\n",
    "    for i in ls:\n",
    "        if int(i)%2 == 0:\n",
    "            even.append(i)\n",
    "        else:\n",
    "            odd.append(i)\n",
    "        return even, odd\n",
    "    numbers =input (\"enter a list of number\").split[',']\n",
    "    even,odd =odd_even(numbers)\n",
    "    print(\"count of the even number\",len[even])\n",
    "    print(\"list of the even number\",even)\n",
    "    print(\"count of the odd number\",len[odd])\n",
    "    print(\"list of the odd number\",odd)"
   ]
  },
  {
   "cell_type": "markdown",
   "metadata": {},
   "source": [
    "1).count the number odd even numbers in the list and print the odd nuber count  even numbers count along with the numbers.\n",
    "\n",
    "2).you will have a function that will take alist of numbers, then returns the count of odd numbers and even numbers and the newlist of odd numbers and even numbers"
   ]
  },
  {
   "cell_type": "code",
   "execution_count": 1,
   "metadata": {},
   "outputs": [
    {
     "name": "stdout",
     "output_type": "stream",
     "text": [
      "Even numbers available in the list:  5\n",
      "Odd numbers available in the list:  7\n"
     ]
    }
   ],
   "source": [
    "\n",
    "list = [21,3,4,6,33,2,3,1,3,76,5,10]\n",
    "even_count= 0\n",
    "odd_count = 0\n",
    "\n",
    "for num in list:\n",
    "   #even numbers\n",
    "   if num % 2 == 0:\n",
    "      even_count += 1\n",
    "     \n",
    "   #odd numbers\n",
    "   else:\n",
    "        odd_count += 1\n",
    "      \n",
    "\n",
    "print(\"Even numbers available in the list: \", even_count)\n",
    "print(\"Odd numbers available in the list: \", odd_count)"
   ]
  },
  {
   "cell_type": "code",
   "execution_count": 2,
   "metadata": {},
   "outputs": [],
   "source": [
    "def sum_list(lst):\n",
    "    sum = 0\n",
    "    for item in lst:\n",
    "        sum = sum + int(item)\n",
    "    return sum\n",
    "userinput = input(\"enter list of numbeseperated via coma\")\n",
    "#1,2,3,4,5,6\n",
    "array = userinput.strip().split(',')\n",
    "#[\"2\",\"3\",\"4\",\"5\",\"6\"]\n",
    "sum = sum_list(array)\n",
    "print(\"sum:\",sum)"
   ]
  },
  {
   "cell_type": "code",
   "execution_count": null,
   "metadata": {},
   "outputs": [],
   "source": [
    "def sum_list(lst):\n",
    "    sum = 0\n",
    "    for item in lst:\n",
    "        sum = sum + int(item)\n",
    "    return sum\n",
    "lst = input(\"enter number\")\n",
    "num = lst.split(\",\")\n",
    "a = sum_list(num)\n",
    "print(a)"
   ]
  },
  {
   "cell_type": "code",
   "execution_count": null,
   "metadata": {},
   "outputs": [],
   "source": [
    "def sum_list(lst):\n",
    "    sum= 0\n",
    "    for item in lst:\n",
    "        sum += item\n",
    "    return sum\n",
    "lst=[1,2,3,4,5]\n",
    "sum_list(lst)"
   ]
  },
  {
   "cell_type": "code",
   "execution_count": null,
   "metadata": {},
   "outputs": [],
   "source": [
    "for item in range(0,len(lst),1):\n",
    "    print(lst[item])"
   ]
  },
  {
   "cell_type": "code",
   "execution_count": null,
   "metadata": {},
   "outputs": [],
   "source": [
    "for item in lst:\n",
    "    print(item)"
   ]
  },
  {
   "cell_type": "markdown",
   "metadata": {},
   "source": [
    "Sort()|reverse()"
   ]
  },
  {
   "cell_type": "code",
   "execution_count": null,
   "metadata": {},
   "outputs": [],
   "source": [
    "name = \"Jeffin\"\n",
    "status, flag = fname(name)\n",
    "print(status, flag)"
   ]
  },
  {
   "cell_type": "code",
   "execution_count": null,
   "metadata": {},
   "outputs": [],
   "source": [
    "def fname(n):\n",
    "   print(\"Iam your First Function...\",n) \n",
    "   retVal =\"success\"\n",
    "   return retVal,True\n"
   ]
  },
  {
   "cell_type": "markdown",
   "metadata": {},
   "source": [
    "File"
   ]
  },
  {
   "cell_type": "code",
   "execution_count": 29,
   "metadata": {},
   "outputs": [
    {
     "data": {
      "text/plain": [
       "'This is my first line to file from pythonThis is my first line to file from python\\n'"
      ]
     },
     "execution_count": 29,
     "metadata": {},
     "output_type": "execute_result"
    }
   ],
   "source": [
    "file =open (\"sample.txt\",\"r+\")\n",
    "file.readline()"
   ]
  },
  {
   "cell_type": "code",
   "execution_count": 25,
   "metadata": {},
   "outputs": [
    {
     "data": {
      "text/plain": [
       "42"
      ]
     },
     "execution_count": 25,
     "metadata": {},
     "output_type": "execute_result"
    }
   ],
   "source": [
    "file.write(\"This is my first line to file from python\\n\")"
   ]
  },
  {
   "cell_type": "code",
   "execution_count": 21,
   "metadata": {},
   "outputs": [],
   "source": [
    "file.close()"
   ]
  },
  {
   "cell_type": "code",
   "execution_count": 30,
   "metadata": {},
   "outputs": [
    {
     "data": {
      "text/plain": [
       "['This is my first line to file from python\\n',\n",
       " 'This is my first line to file from python\\n',\n",
       " 'This is my first line to file from python\\n',\n",
       " 'This is my first line to file from python\\n',\n",
       " 'This is my first line to file from python\\n',\n",
       " 'This is my first line to file from python\\n']"
      ]
     },
     "execution_count": 30,
     "metadata": {},
     "output_type": "execute_result"
    }
   ],
   "source": [
    "file.readlines()"
   ]
  },
  {
   "cell_type": "code",
   "execution_count": null,
   "metadata": {},
   "outputs": [],
   "source": []
  },
  {
   "cell_type": "markdown",
   "metadata": {},
   "source": [
    "write a function in python that accepts your details and save it into file with you name "
   ]
  },
  {
   "cell_type": "code",
   "execution_count": 4,
   "metadata": {},
   "outputs": [],
   "source": [
    "def save_details(name,email,phone):\n",
    "    filename=name +\".txt\"\n",
    "    with open(filename,\"w+\")as file:\n",
    "        file.write(\"Name\\t:\\t\"+name)\n",
    "        file.write(\"\\nEmail\\t:\\t\"+email)\n",
    "        file.write(\"\\nPhone\\t:\\t\"+phone)\n",
    "user_name=input(\"Enter Your Name\")\n",
    "user_email=input(\"Enter Your Email\")\n",
    "user_phone=input(\"Enter Your Phone\")\n",
    "save_details(user_name,user_email,user_phone)\n",
    "\n",
    "\n"
   ]
  },
  {
   "cell_type": "markdown",
   "metadata": {},
   "source": [
    "write a pyhton program that will take two operands and an operator and perfroms the calculation an dgive sthe rseults. Also save the calculations that your program performs in a file."
   ]
  },
  {
   "cell_type": "code",
   "execution_count": 1,
   "metadata": {},
   "outputs": [],
   "source": [
    "def calculation(calculation):\n",
    "    with open(\"calculations.txt\", \"w+\") as file:\n",
    "        file.write(calculation + '\\n')\n",
    "    operand1 = float(input(\"Enter the first Value: \"))\n",
    "    operand2 = float(input(\"Enter the second Value: \"))\n",
    "    operator = input(\"Enter the operator (+, -, *, /): \")\n",
    "    result = calculation(operator, operand1, operand2)\n",
    "    print(\"Result:\", result)\n",
    "    calculation = f\"{operand1} {operator} {operand2} = {result}\"\n",
    "    calculation(calculation)\n"
   ]
  },
  {
   "cell_type": "code",
   "execution_count": null,
   "metadata": {},
   "outputs": [],
   "source": [
    "while True:\n",
    "    \n",
    "\n",
    "    print(\"Result:\", result)\n",
    "\n",
    "    calculation = f\"{operand1} {operator} {operand2} = {result}\"\n",
    "    calculation(calculation)\n",
    "    choice = input(\"Do you want to perform another calculation? (yes/no): \").lower()\n",
    "    if choice != 'yes':\n",
    "        break"
   ]
  }
 ],
 "metadata": {
  "kernelspec": {
   "display_name": "Python 3",
   "language": "python",
   "name": "python3"
  },
  "language_info": {
   "codemirror_mode": {
    "name": "ipython",
    "version": 3
   },
   "file_extension": ".py",
   "mimetype": "text/x-python",
   "name": "python",
   "nbconvert_exporter": "python",
   "pygments_lexer": "ipython3",
   "version": "3.11.4"
  },
  "orig_nbformat": 4
 },
 "nbformat": 4,
 "nbformat_minor": 2
}
