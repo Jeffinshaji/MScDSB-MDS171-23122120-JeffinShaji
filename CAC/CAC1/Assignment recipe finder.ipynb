{
 "cells": [
  {
   "cell_type": "code",
   "execution_count": 5,
   "metadata": {},
   "outputs": [
    {
     "name": "stdout",
     "output_type": "stream",
     "text": [
      "Recipe Finder\n",
      "\n",
      "Recipes you can make with the ingredient:\n",
      "\n",
      "Recipe: Lemon Juice\n",
      "\n",
      "Instructions: Cut lemons in a circular shape.squeezed lemon,Add water or soda then mix with salt and suger\n"
     ]
    }
   ],
   "source": [
    "def find_recipes(ingredients):# Function to find recipes from user input\n",
    "    recipes = [\n",
    "            {\n",
    "                \"name\": \"Lemon Juice\",\n",
    "                \"instructions\": \"Cut lemons in a circular shape.squeezed lemon,Add water or soda then mix with salt and suger\",\n",
    "                \"ingredients\": [\"Lemon\",\"Salt\",\"Sugar\",\"Soda\"] \n",
    "            },\n",
    "            {\n",
    "                \"name\": \"Bread Omlette\",\n",
    "                \"instructions\": \"Spread the ghee on the bread, then roast the bread,mix egg with chilli and onion and salt the fry the egg and bread \",\n",
    "                \"ingredients\": [\"Bread\",\"Egg\",\"Ghee\",\"Chilli\",\"Onion\",\"Oil\",\"Salt\"]\n",
    "            },\n",
    "            {\n",
    "                \"name\": \"Fried rice\",\n",
    "                \"instructions\": \"boil the rice with spices and ghee, prepare the vegitables then mix the vegitable and rice\",\n",
    "                \"ingredients\": [\"Basmati Rice\",\"Beans\",\"Carrot\",\"Pepper\",\"Ghee\",\"Onion\"]\n",
    "            },\n",
    "            {\n",
    "                \"name\": \"chicken roast\",\n",
    "                \"instructions\": \"marinate chicken with masala and curd then cut onion then then heat pan put oil then fry onion with masala mix then put marinated chicken then wait for ready \",\n",
    "                \"ingredients\": [\"Chicken\",\"Chilli Powder\",\"Turmeric Powder\",\"Ginger\",\"Garlic\",\"Salt\",\"Curd\",\"Onion\",\"Masala Powder\",\"Oil\"]\n",
    "            }\n",
    "        ]\n",
    "    \n",
    "    check_recipes = []\n",
    "    for recipe in recipes:\n",
    "        if all(ingredient in recipe['ingredients'] for ingredient in ingredients):\n",
    "            check_recipes.append(recipe)\n",
    "    return check_recipes\n",
    "\n",
    "print(\"Recipe Finder\") # Main program get user input for ingredients\n",
    "user_input = input(\"Enter ingredients you have (comma-separated): \")\n",
    "user_input = user_input.title()\n",
    "ingredients = [ingredient.strip() for ingredient in user_input.split(',')]\n",
    "check_recipes = find_recipes(ingredients) # Find matching recipes\n",
    "\n",
    "\n",
    " # Display results\n",
    "if  check_recipes:\n",
    "            print(\"\\nRecipes you can make with the ingredient:\")\n",
    "            for recipe in check_recipes:\n",
    "                print(\"\\nRecipe:\", recipe[\"name\"])\n",
    "                print(\"\\nInstructions:\", recipe[\"instructions\"])\n",
    "                \n",
    "else:\n",
    "            print(\"\\nNo recipes found with the provided ingredients.\")\n",
    "\n",
    "def NewFile():# file for analysis from user input \n",
    "    file = open(\"ListRecipee.csv\",\"a+\")\n",
    "    file.write(recipe[\"name\"]+\"\\n\")\n",
    "    file.close()\n",
    "NewFile()\n",
    "\n",
    "        "
   ]
  },
  {
   "cell_type": "code",
   "execution_count": 9,
   "metadata": {},
   "outputs": [
    {
     "name": "stdout",
     "output_type": "stream",
     "text": [
      "['Bread Omlette', 'Lemon Juice', 'Bread Omlette', 'Fried rice', 'Lemon Juice', 'Lemon Juice']\n",
      "['Bread Omlette:2,Lemon Juice:3,Fried rice:1,chicken roast:0']\n"
     ]
    }
   ],
   "source": [
    "file = open(\"ListRecipee.csv\")#analysis part\n",
    "lines = file.readlines()\n",
    "r = []\n",
    "for  line in lines:\n",
    "    tem = line.split(\",\")\n",
    "    r.append(tem[0].strip())\n",
    "\n",
    "print(r)\n",
    "count1 =0\n",
    "count2 =0\n",
    "count3 =0\n",
    "count4 =0\n",
    "for i in r:\n",
    "    if i ==\"Bread Omlette\":\n",
    "        count1 += 1\n",
    "    elif i == \"Lemon Juice\":\n",
    "        count2 += 1\n",
    "    elif i == \"Fried rice\":\n",
    "        count3 += 1\n",
    "    elif i == \"chicken roast\":\n",
    "        count4 += 4\n",
    "\n",
    "m = [\"Bread Omlette:{},Lemon Juice:{},Fried rice:{},chicken roast:{}\".format(count1,count2,count3,count4)]\n",
    "print(m)"
   ]
  }
 ],
 "metadata": {
  "kernelspec": {
   "display_name": "Python 3",
   "language": "python",
   "name": "python3"
  },
  "language_info": {
   "codemirror_mode": {
    "name": "ipython",
    "version": 3
   },
   "file_extension": ".py",
   "mimetype": "text/x-python",
   "name": "python",
   "nbconvert_exporter": "python",
   "pygments_lexer": "ipython3",
   "version": "3.11.4"
  },
  "orig_nbformat": 4
 },
 "nbformat": 4,
 "nbformat_minor": 2
}
